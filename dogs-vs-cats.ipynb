{
 "cells": [
  {
   "cell_type": "code",
   "execution_count": 1,
   "metadata": {},
   "outputs": [],
   "source": [
    "import numpy as np\n",
    "import matplotlib.pyplot as plt\n",
    "from scipy import ndimage\n",
    "from PIL import Image\n",
    "import os\n",
    "from sklearn.model_selection import train_test_split\n",
    "import random\n",
    "\n",
    "%matplotlib inline\n",
    "plt.rcParams['figure.figsize'] = (5.0, 4.0) # set default size of plots\n",
    "plt.rcParams['image.interpolation'] = 'nearest'\n",
    "plt.rcParams['image.cmap'] = 'gray'\n",
    "\n",
    "%load_ext autoreload\n",
    "%autoreload 2\n",
    "\n",
    "np.random.seed(1)"
   ]
  },
  {
   "cell_type": "code",
   "execution_count": 23,
   "metadata": {},
   "outputs": [],
   "source": [
    "# resize images from it's folder\n",
    "# run this function only inside that image containing directory only\n",
    "def resize(dirs):\n",
    "    for item in dirs:\n",
    "        if os.path.isfile(path+item):\n",
    "            im = Image.open(path+item)\n",
    "            f, e = os.path.splitext(path+item)\n",
    "            imResize = im.resize((50,50), Image.ANTIALIAS)\n",
    "            imResize.save(f + ' new.jpg', 'JPEG', quality=90)"
   ]
  },
  {
   "cell_type": "code",
   "execution_count": 4,
   "metadata": {},
   "outputs": [],
   "source": [
    "path = '/home/iamnildas/Downloads/dogs-vs-cats/x_train/'\n",
    "dirs = os.listdir(path)\n",
    "resize(dirs)"
   ]
  },
  {
   "cell_type": "code",
   "execution_count": 3,
   "metadata": {},
   "outputs": [],
   "source": [
    "os.chdir('x_train')"
   ]
  },
  {
   "cell_type": "code",
   "execution_count": 4,
   "metadata": {},
   "outputs": [],
   "source": [
    "# you must be in the all train images' directory\n",
    "x_train = []\n",
    "y_train = np.zeros((5000,1))\n",
    "for i in range (5000):\n",
    "    img = random.choice(os.listdir())\n",
    "    if img.split(\".\")[-1]==\"jpg\":\n",
    "        imgVec = np.array(Image.open(img))\n",
    "        x_train.append(imgVec)\n",
    "    if img.split(\".\")[-3] == \"cat\":\n",
    "        y_train[i,0] = 1\n",
    "x_train = np.array(x_train)"
   ]
  },
  {
   "cell_type": "code",
   "execution_count": 5,
   "metadata": {},
   "outputs": [
    {
     "name": "stdout",
     "output_type": "stream",
     "text": [
      "(5000, 50, 50, 3)\n",
      "(5000, 1)\n"
     ]
    }
   ],
   "source": [
    "print(x_train.shape)\n",
    "print(y_train.shape)"
   ]
  },
  {
   "cell_type": "code",
   "execution_count": 8,
   "metadata": {},
   "outputs": [],
   "source": [
    "x_train = x_train/255 # standardize the data set"
   ]
  },
  {
   "cell_type": "code",
   "execution_count": 6,
   "metadata": {},
   "outputs": [
    {
     "name": "stdout",
     "output_type": "stream",
     "text": [
      "Number of training examples :5000\n",
      "Dimension of the x_train :(5000, 50, 50, 3)\n",
      "Dimension of the y_train :(5000, 1)\n",
      "Resolution of each image :(50, 50, 3)\n"
     ]
    }
   ],
   "source": [
    "print ('Number of training examples :'+str(x_train.shape[0]))\n",
    "print ('Dimension of the x_train :'+str(x_train.shape))\n",
    "print ('Dimension of the y_train :'+ str(y_train.shape))\n",
    "print ('Resolution of each image :'+ str(x_train[0].shape))"
   ]
  },
  {
   "cell_type": "code",
   "execution_count": 7,
   "metadata": {},
   "outputs": [
    {
     "name": "stdout",
     "output_type": "stream",
     "text": [
      "Dimension of the x_train_new :(7500, 5000)\n",
      "Dimension of the y_train_new :(1, 5000)\n"
     ]
    }
   ],
   "source": [
    "# Reshaping x_train (flattenning)\n",
    "x_train_new = x_train.reshape(x_train.shape[0],-1).T\n",
    "print ('Dimension of the x_train_new :'+str(x_train_new.shape))\n",
    "y_train_new = y_train.T\n",
    "print('Dimension of the y_train_new :'+str(y_train_new.shape))"
   ]
  },
  {
   "cell_type": "code",
   "execution_count": 8,
   "metadata": {},
   "outputs": [
    {
     "name": "stdout",
     "output_type": "stream",
     "text": [
      "X_train shape :(3750, 7500)\n",
      "Y_train shape :(3750, 1)\n",
      "X_test shape :(1250, 7500)\n",
      "Y_test shape :(1250, 1)\n"
     ]
    }
   ],
   "source": [
    "X_train,X_test,Y_train,Y_test = train_test_split(x_train_new.T , y_train_new.T, test_size = 0.25, random_state =42)\n",
    "print (\"X_train shape :\"+str(X_train.shape))\n",
    "print (\"Y_train shape :\"+str(Y_train.shape))\n",
    "print (\"X_test shape :\"+str(X_test.shape))\n",
    "print (\"Y_test shape :\"+str(Y_test.shape))"
   ]
  },
  {
   "cell_type": "code",
   "execution_count": 9,
   "metadata": {},
   "outputs": [],
   "source": [
    "X_train_new = X_train.T\n",
    "Y_train_new = Y_train.T\n",
    "X_test_new = X_test.T\n",
    "Y_test_new = Y_test.T"
   ]
  },
  {
   "cell_type": "code",
   "execution_count": 10,
   "metadata": {},
   "outputs": [],
   "source": [
    "def sigmoid(x):\n",
    "  s = 1/(1+np.exp(-x))\n",
    "  return s\n",
    "def sigmoid_derivative(x):\n",
    "  s = sigmoid(x)\n",
    "  ds = s*(1-s)\n",
    "  return ds"
   ]
  },
  {
   "cell_type": "code",
   "execution_count": 17,
   "metadata": {},
   "outputs": [],
   "source": [
    "def image2vector(image):\n",
    "  v = image.reshape((image.shape[0]*image.shape[1]*image.shape[2]),1)\n",
    "  return v\n",
    "def normalize_rows(x):\n",
    "  x_norm = np.linalg.norm(x,ord=2,axis=1,keepdims=True)\n",
    "  x=x/x_norm\n",
    "  return x"
   ]
  },
  {
   "cell_type": "code",
   "execution_count": 11,
   "metadata": {},
   "outputs": [],
   "source": [
    "def initialize_with_zeros(dim):\n",
    "    w = np.zeros((dim,1))\n",
    "    b = 0\n",
    "    \n",
    "    assert(w.shape == (dim, 1))\n",
    "    assert(isinstance(b, float) or isinstance(b, int))\n",
    "    \n",
    "    return w, b"
   ]
  },
  {
   "cell_type": "markdown",
   "metadata": {},
   "source": [
    "Forward Propagation:\n",
    "- You get X\n",
    "- You compute $A = \\sigma(w^T X + b) = (a^{(1)}, a^{(2)}, ..., a^{(m-1)}, a^{(m)})$\n",
    "- You calculate the cost function: $J = -\\frac{1}{m}\\sum_{i=1}^{m}y^{(i)}\\log(a^{(i)})+(1-y^{(i)})\\log(1-a^{(i)})$\n",
    "\n",
    "The two formulas : \n",
    "\n",
    "$$ \\frac{\\partial J}{\\partial w} = \\frac{1}{m}X(A-Y)^T$$\n",
    "$$ \\frac{\\partial J}{\\partial b} = \\frac{1}{m} \\sum_{i=1}^m (a^{(i)}-y^{(i)})$$"
   ]
  },
  {
   "cell_type": "code",
   "execution_count": 19,
   "metadata": {},
   "outputs": [],
   "source": [
    "def propagate(w, b, X, Y):\n",
    "    \n",
    "    m = X.shape[1]\n",
    "    \n",
    "    # Forward propagation\n",
    "    \n",
    "    A = sigmoid(np.dot(w.T,X)+b)\n",
    "    cost = -np.sum(Y*np.log(A)+(1-Y)*np.log(1-A))/m \n",
    "    \n",
    "    # Back propagation\n",
    "    \n",
    "    dw = np.dot(X,(A-Y).T)/m\n",
    "    db = np.sum(A-Y)/m\n",
    "    \n",
    "    assert(dw.shape == w.shape)\n",
    "    assert(db.dtype == float)\n",
    "    cost = np.squeeze(cost)\n",
    "    assert(cost.shape == ())\n",
    "    \n",
    "    grads = {\"dw\": dw,\n",
    "             \"db\": db}\n",
    "    \n",
    "    return grads, cost"
   ]
  },
  {
   "cell_type": "code",
   "execution_count": 53,
   "metadata": {},
   "outputs": [],
   "source": [
    "# Optimize the model to pick the correct value of w and b using propagate()\n",
    "\n",
    "def optimization(w, b, X, Y, num_of_iterations, learning_rate, print_cost=False):\n",
    "    \n",
    "    costs = []\n",
    "    \n",
    "    for i in range (num_of_iterations):\n",
    "        grads , cost = propagate(w,b,X,Y)\n",
    "        \n",
    "        dw = grads['dw']\n",
    "        db = grads['db']\n",
    "        \n",
    "        w = w - learning_rate*dw\n",
    "        b = b - learning_rate*db\n",
    "        \n",
    "        if i%100==0:\n",
    "            costs.append(cost)\n",
    "        if print_cost and i % 100 == 0:\n",
    "            print (\"Cost after iteration %i: %f\" %(i, cost))\n",
    "            \n",
    "    params = {'w': w,\n",
    "              'b': b}\n",
    "    grads = {'dw': dw,\n",
    "            'db' : db}\n",
    "    return params, grads, costs"
   ]
  },
  {
   "cell_type": "code",
   "execution_count": 37,
   "metadata": {},
   "outputs": [],
   "source": [
    "# Prediction, learned from w and b from optimization() parameters\n",
    "\n",
    "def predict(w, b, X):\n",
    "    m = X.shape[1]\n",
    "    Y_prediction = np.zeros((1,m))\n",
    "    w = w.reshape(X.shape[0], 1)\n",
    "    A = sigmoid(np.dot(w.T,X)+b) \n",
    "    for i in range(A.shape[1]):\n",
    "        if A[0,i] > 0.5:\n",
    "            Y_prediction[0,i] = 1 \n",
    "    assert(Y_prediction.shape == (1, m))\n",
    "    return Y_prediction"
   ]
  },
  {
   "cell_type": "code",
   "execution_count": 70,
   "metadata": {},
   "outputs": [],
   "source": [
    "def LogisticRegression(X_train, Y_train, X_test, Y_test, num_iterations = 2000, learning_rate = 0.5, print_cost = False):\n",
    "\n",
    "    w, b = initialize_with_zeros(X_train.shape[0])\n",
    "\n",
    "    parameters, grads, costs = optimization(w, b, X_train, Y_train, num_iterations, learning_rate, print_cost = True)\n",
    "\n",
    "    w = parameters[\"w\"]\n",
    "    b = parameters[\"b\"]\n",
    "\n",
    "    Y_prediction_test = predict(w,b,X_test)\n",
    "    Y_prediction_train = predict(w,b,X_train)\n",
    "\n",
    "    print(\"train accuracy: {} %\".format(100 - np.mean(np.abs(Y_prediction_train - Y_train)) * 100))\n",
    "    print(\"test accuracy: {} %\".format(100 - np.mean(np.abs(Y_prediction_test - Y_test)) * 100))\n",
    "\n",
    "    \n",
    "    d = {\"costs\": costs,\n",
    "         \"Y_prediction_test\": Y_prediction_test, \n",
    "         \"Y_prediction_train\" : Y_prediction_train, \n",
    "         \"w\" : w, \n",
    "         \"b\" : b,\n",
    "         \"learning_rate\" : learning_rate,\n",
    "         \"num_iterations\": num_iterations}\n",
    "    \n",
    "    return d"
   ]
  },
  {
   "cell_type": "code",
   "execution_count": 74,
   "metadata": {},
   "outputs": [
    {
     "name": "stdout",
     "output_type": "stream",
     "text": [
      "Cost after iteration 0: 0.693147\n",
      "Cost after iteration 100: 0.682363\n",
      "Cost after iteration 200: 0.677104\n",
      "Cost after iteration 300: 0.673326\n",
      "Cost after iteration 400: 0.670297\n",
      "Cost after iteration 500: 0.667732\n",
      "Cost after iteration 600: 0.665482\n",
      "Cost after iteration 700: 0.663464\n",
      "Cost after iteration 800: 0.661623\n",
      "Cost after iteration 900: 0.659925\n",
      "Cost after iteration 1000: 0.658345\n",
      "Cost after iteration 1100: 0.656865\n",
      "Cost after iteration 1200: 0.655471\n",
      "Cost after iteration 1300: 0.654152\n",
      "Cost after iteration 1400: 0.652899\n",
      "Cost after iteration 1500: 0.651704\n",
      "Cost after iteration 1600: 0.650561\n",
      "Cost after iteration 1700: 0.649464\n",
      "Cost after iteration 1800: 0.648410\n",
      "Cost after iteration 1900: 0.647394\n",
      "Cost after iteration 2000: 0.646412\n",
      "Cost after iteration 2100: 0.645462\n",
      "Cost after iteration 2200: 0.644541\n",
      "Cost after iteration 2300: 0.643647\n",
      "Cost after iteration 2400: 0.642777\n",
      "Cost after iteration 2500: 0.641930\n",
      "Cost after iteration 2600: 0.641104\n",
      "Cost after iteration 2700: 0.640297\n",
      "Cost after iteration 2800: 0.639509\n",
      "Cost after iteration 2900: 0.638738\n",
      "Cost after iteration 3000: 0.637983\n",
      "Cost after iteration 3100: 0.637243\n",
      "Cost after iteration 3200: 0.636518\n",
      "Cost after iteration 3300: 0.635805\n",
      "Cost after iteration 3400: 0.635105\n",
      "Cost after iteration 3500: 0.634417\n",
      "Cost after iteration 3600: 0.633741\n",
      "Cost after iteration 3700: 0.633075\n",
      "Cost after iteration 3800: 0.632420\n",
      "Cost after iteration 3900: 0.631774\n",
      "Cost after iteration 4000: 0.631138\n",
      "Cost after iteration 4100: 0.630510\n",
      "Cost after iteration 4200: 0.629892\n",
      "Cost after iteration 4300: 0.629281\n",
      "Cost after iteration 4400: 0.628678\n",
      "Cost after iteration 4500: 0.628083\n",
      "Cost after iteration 4600: 0.627495\n",
      "Cost after iteration 4700: 0.626914\n",
      "Cost after iteration 4800: 0.626340\n",
      "Cost after iteration 4900: 0.625773\n",
      "Cost after iteration 5000: 0.625212\n",
      "Cost after iteration 5100: 0.624657\n",
      "Cost after iteration 5200: 0.624108\n",
      "Cost after iteration 5300: 0.623564\n",
      "Cost after iteration 5400: 0.623027\n",
      "Cost after iteration 5500: 0.622494\n",
      "Cost after iteration 5600: 0.621967\n",
      "Cost after iteration 5700: 0.621445\n",
      "Cost after iteration 5800: 0.620928\n",
      "Cost after iteration 5900: 0.620416\n",
      "Cost after iteration 6000: 0.619909\n",
      "Cost after iteration 6100: 0.619406\n",
      "Cost after iteration 6200: 0.618908\n",
      "Cost after iteration 6300: 0.618414\n",
      "Cost after iteration 6400: 0.617924\n",
      "Cost after iteration 6500: 0.617439\n",
      "Cost after iteration 6600: 0.616958\n",
      "Cost after iteration 6700: 0.616480\n",
      "Cost after iteration 6800: 0.616007\n",
      "Cost after iteration 6900: 0.615537\n",
      "Cost after iteration 7000: 0.615072\n",
      "Cost after iteration 7100: 0.614609\n",
      "Cost after iteration 7200: 0.614151\n",
      "Cost after iteration 7300: 0.613696\n",
      "Cost after iteration 7400: 0.613244\n",
      "Cost after iteration 7500: 0.612796\n",
      "Cost after iteration 7600: 0.612351\n",
      "Cost after iteration 7700: 0.611910\n",
      "Cost after iteration 7800: 0.611471\n",
      "Cost after iteration 7900: 0.611036\n",
      "Cost after iteration 8000: 0.610604\n",
      "Cost after iteration 8100: 0.610175\n",
      "Cost after iteration 8200: 0.609749\n",
      "Cost after iteration 8300: 0.609326\n",
      "Cost after iteration 8400: 0.608906\n",
      "Cost after iteration 8500: 0.608488\n",
      "Cost after iteration 8600: 0.608074\n",
      "Cost after iteration 8700: 0.607662\n",
      "Cost after iteration 8800: 0.607253\n",
      "Cost after iteration 8900: 0.606846\n",
      "Cost after iteration 9000: 0.606442\n",
      "Cost after iteration 9100: 0.606041\n",
      "Cost after iteration 9200: 0.605643\n",
      "Cost after iteration 9300: 0.605246\n",
      "Cost after iteration 9400: 0.604853\n",
      "Cost after iteration 9500: 0.604461\n",
      "Cost after iteration 9600: 0.604072\n",
      "Cost after iteration 9700: 0.603686\n",
      "Cost after iteration 9800: 0.603302\n",
      "Cost after iteration 9900: 0.602920\n",
      "train accuracy: 68.88 %\n",
      "test accuracy: 61.84 %\n"
     ]
    }
   ],
   "source": [
    "d = LogisticRegression(X_train_new, Y_train_new,X_test_new,Y_test_new, num_iterations=10000, learning_rate=0.001, print_cost =True)"
   ]
  },
  {
   "cell_type": "code",
   "execution_count": 72,
   "metadata": {},
   "outputs": [
    {
     "data": {
      "image/png": "[encoded data removed]",
      "text/plain": [
       "<Figure size 432x288 with 1 Axes>"
      ]
     },
     "metadata": {
      "needs_background": "light"
     },
     "output_type": "display_data"
    }
   ],
   "source": [
    "# Plotting the learning curve (with costs)\n",
    "costs = np.squeeze(d['costs'])\n",
    "plt.plot(costs)\n",
    "plt.ylabel('cost')\n",
    "plt.xlabel('iterations (per hundreds)')\n",
    "plt.title(\"Learning rate =\" + str(d[\"learning_rate\"]))\n",
    "plt.show()"
   ]
  },
  {
   "cell_type": "code",
   "execution_count": 73,
   "metadata": {},
   "outputs": [
    {
     "name": "stdout",
     "output_type": "stream",
     "text": [
      "learning rate is: 0.01\n",
      "Cost after iteration 0: 0.693147\n",
      "Cost after iteration 100: 1.667252\n",
      "Cost after iteration 200: 1.603602\n",
      "Cost after iteration 300: 1.562083\n",
      "Cost after iteration 400: 1.531468\n",
      "Cost after iteration 500: 1.506929\n",
      "Cost after iteration 600: 1.486024\n",
      "Cost after iteration 700: 1.467645\n",
      "Cost after iteration 800: 1.451220\n",
      "Cost after iteration 900: 1.436377\n",
      "Cost after iteration 1000: 1.422836\n",
      "Cost after iteration 1100: 1.410368\n",
      "Cost after iteration 1200: 1.398790\n",
      "Cost after iteration 1300: 1.387953\n",
      "Cost after iteration 1400: 1.377737\n",
      "train accuracy: 52.906666666666666 %\n",
      "test accuracy: 52.08 %\n",
      "\n",
      "-------------------------------------------------------\n",
      "\n",
      "learning rate is: 0.001\n",
      "Cost after iteration 0: 0.693147\n",
      "Cost after iteration 100: 0.682363\n",
      "Cost after iteration 200: 0.677104\n",
      "Cost after iteration 300: 0.673326\n",
      "Cost after iteration 400: 0.670297\n",
      "Cost after iteration 500: 0.667732\n",
      "Cost after iteration 600: 0.665482\n",
      "Cost after iteration 700: 0.663464\n",
      "Cost after iteration 800: 0.661623\n",
      "Cost after iteration 900: 0.659925\n",
      "Cost after iteration 1000: 0.658345\n",
      "Cost after iteration 1100: 0.656865\n",
      "Cost after iteration 1200: 0.655471\n",
      "Cost after iteration 1300: 0.654152\n",
      "Cost after iteration 1400: 0.652899\n",
      "train accuracy: 63.06666666666666 %\n",
      "test accuracy: 59.760000000000005 %\n",
      "\n",
      "-------------------------------------------------------\n",
      "\n",
      "learning rate is: 0.0001\n",
      "Cost after iteration 0: 0.693147\n",
      "Cost after iteration 100: 0.691379\n",
      "Cost after iteration 200: 0.689869\n",
      "Cost after iteration 300: 0.688555\n",
      "Cost after iteration 400: 0.687396\n",
      "Cost after iteration 500: 0.686361\n",
      "Cost after iteration 600: 0.685425\n",
      "Cost after iteration 700: 0.684572\n",
      "Cost after iteration 800: 0.683785\n",
      "Cost after iteration 900: 0.683055\n",
      "Cost after iteration 1000: 0.682372\n",
      "Cost after iteration 1100: 0.681729\n",
      "Cost after iteration 1200: 0.681122\n",
      "Cost after iteration 1300: 0.680544\n",
      "Cost after iteration 1400: 0.679993\n",
      "train accuracy: 59.28 %\n",
      "test accuracy: 56.32 %\n",
      "\n",
      "-------------------------------------------------------\n",
      "\n"
     ]
    },
    {
     "data": {
      "image/png": "[encoded data removed]",
      "text/plain": [
       "<Figure size 432x288 with 1 Axes>"
      ]
     },
     "metadata": {
      "needs_background": "light"
     },
     "output_type": "display_data"
    }
   ],
   "source": [
    "learning_rates = [0.01, 0.001, 0.0001]\n",
    "models = {}\n",
    "for i in learning_rates:\n",
    "    print (\"learning rate is: \" + str(i))\n",
    "    models[str(i)] = LogisticRegression(X_train_new, Y_train_new,X_test_new,Y_test_new, num_iterations = 1500, learning_rate = i, print_cost = False)\n",
    "    print ('\\n' + \"-------------------------------------------------------\" + '\\n')\n",
    "\n",
    "for i in learning_rates:\n",
    "    plt.plot(np.squeeze(models[str(i)][\"costs\"]), label= str(models[str(i)][\"learning_rate\"]))\n",
    "\n",
    "plt.ylabel('cost')\n",
    "plt.xlabel('iterations (hundreds)')\n",
    "\n",
    "legend = plt.legend(loc='upper center', shadow=True)\n",
    "frame = legend.get_frame()\n",
    "frame.set_facecolor('0.90')\n",
    "plt.show()"
   ]
  },
  {
   "cell_type": "code",
   "execution_count": null,
   "metadata": {},
   "outputs": [],
   "source": []
  }
 ],
 "metadata": {
  "kernelspec": {
   "display_name": "Python 3",
   "language": "python",
   "name": "python3"
  },
  "language_info": {
   "codemirror_mode": {
    "name": "ipython",
    "version": 3
   },
   "file_extension": ".py",
   "mimetype": "text/x-python",
   "name": "python",
   "nbconvert_exporter": "python",
   "pygments_lexer": "ipython3",
   "version": "3.7.1"
  }
 },
 "nbformat": 4,
 "nbformat_minor": 2
}
