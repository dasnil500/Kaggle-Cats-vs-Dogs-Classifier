{
 "cells": [
  {
   "cell_type": "code",
   "execution_count": 0,
   "metadata": {
    "colab": {},
    "colab_type": "code",
    "id": "ha7B4R_laKWm"
   },
   "outputs": [],
   "source": [
    "import numpy as np\n",
    "import matplotlib.pyplot as plt\n",
    "from PIL import Image\n",
    "from sklearn.model_selection import train_test_split\n",
    "import os\n",
    "import random\n",
    "import math\n",
    "\n",
    "%matplotlib inline\n",
    "plt.rcParams['figure.figsize'] = (5.0, 4.0) \n",
    "plt.rcParams['image.interpolation'] = 'nearest'\n",
    "plt.rcParams['image.cmap'] = 'gray'"
   ]
  },
  {
   "cell_type": "code",
   "execution_count": 0,
   "metadata": {
    "colab": {},
    "colab_type": "code",
    "id": "xsmoh9xJaKWt"
   },
   "outputs": [],
   "source": [
    "os.chdir('x_train')"
   ]
  },
  {
   "cell_type": "code",
   "execution_count": 0,
   "metadata": {
    "colab": {},
    "colab_type": "code",
    "id": "erAaydPHaKWx"
   },
   "outputs": [],
   "source": [
    "x_train = []\n",
    "y_train = np.zeros((20000,1))\n",
    "for i in range (20000):\n",
    "    img = random.choice(os.listdir())\n",
    "    if img.split(\".\")[-1]==\"jpg\":\n",
    "        imgVec = np.array(Image.open(img))\n",
    "        x_train.append(imgVec)\n",
    "    if img.split(\".\")[-3] == \"cat\":\n",
    "        y_train[i,0] = 1\n",
    "x_train = np.array(x_train)"
   ]
  },
  {
   "cell_type": "code",
   "execution_count": 0,
   "metadata": {
    "colab": {},
    "colab_type": "code",
    "id": "mfpSEu02aKW1",
    "outputId": "2d63bb71-c7b7-4d88-b042-a4d73d3eb692"
   },
   "outputs": [
    {
     "name": "stdout",
     "output_type": "stream",
     "text": [
      "(20000, 50, 50, 3)\n",
      "(20000, 1)\n"
     ]
    }
   ],
   "source": [
    "print(x_train.shape)\n",
    "print(y_train.shape)"
   ]
  },
  {
   "cell_type": "code",
   "execution_count": 0,
   "metadata": {
    "colab": {},
    "colab_type": "code",
    "id": "kZSfgqA-aKW8",
    "outputId": "51e53062-a978-4097-d97e-8bbcfddbf082"
   },
   "outputs": [
    {
     "name": "stdout",
     "output_type": "stream",
     "text": [
      "Number of training examples :20000\n",
      "Dimension of the x_train :(20000, 50, 50, 3)\n",
      "Dimension of the y_train :(20000, 1)\n",
      "Resolution of each image :(50, 50, 3)\n"
     ]
    }
   ],
   "source": [
    "print ('Number of training examples :'+str(x_train.shape[0]))\n",
    "print ('Dimension of the x_train :'+str(x_train.shape))\n",
    "print ('Dimension of the y_train :'+ str(y_train.shape))\n",
    "print ('Resolution of each image :'+ str(x_train[0].shape))"
   ]
  },
  {
   "cell_type": "code",
   "execution_count": 0,
   "metadata": {
    "colab": {},
    "colab_type": "code",
    "id": "YtFChCY4aKXB",
    "outputId": "72746e5d-63ea-4596-a4e5-f73d8ee4e70a"
   },
   "outputs": [
    {
     "name": "stdout",
     "output_type": "stream",
     "text": [
      "(20000, 7500)\n"
     ]
    }
   ],
   "source": [
    "x_train = x_train/255\n",
    "x_train = x_train.reshape(x_train.shape[0], -1)\n",
    "print (x_train.shape)"
   ]
  },
  {
   "cell_type": "code",
   "execution_count": 0,
   "metadata": {
    "colab": {},
    "colab_type": "code",
    "id": "sveiueHUaKXH"
   },
   "outputs": [],
   "source": [
    "train_x , test_x , train_y , test_y = train_test_split(x_train, y_train, test_size = 0.1 , random_state = 42)"
   ]
  },
  {
   "cell_type": "code",
   "execution_count": 0,
   "metadata": {
    "colab": {},
    "colab_type": "code",
    "id": "XZCWoin1aKXL",
    "outputId": "5b2ec105-7fb1-4f3f-9481-93a79d1ac6b7"
   },
   "outputs": [
    {
     "name": "stdout",
     "output_type": "stream",
     "text": [
      "(18000, 7500)\n",
      "(18000, 1)\n",
      "(2000, 7500)\n",
      "(2000, 1)\n"
     ]
    }
   ],
   "source": [
    "print (train_x.shape)\n",
    "print (train_y.shape)\n",
    "print (test_x.shape)\n",
    "print (test_y.shape)"
   ]
  },
  {
   "cell_type": "code",
   "execution_count": 0,
   "metadata": {
    "colab": {},
    "colab_type": "code",
    "id": "hj6hBzvSaKXQ"
   },
   "outputs": [],
   "source": [
    "x_train , x_test , y_train , y_test = train_x.T , test_x.T , train_y.T , test_y.T"
   ]
  },
  {
   "cell_type": "code",
   "execution_count": 0,
   "metadata": {
    "colab": {},
    "colab_type": "code",
    "id": "eROqAMtaaKXW",
    "outputId": "d4eb4c87-91af-4a3d-e163-1da4581f1f20"
   },
   "outputs": [
    {
     "name": "stdout",
     "output_type": "stream",
     "text": [
      "(7500, 18000)\n",
      "(7500, 2000)\n",
      "(1, 18000)\n",
      "(1, 2000)\n"
     ]
    }
   ],
   "source": [
    "print (x_train.shape)\n",
    "print (x_test.shape)\n",
    "print (y_train.shape)\n",
    "print (y_test.shape)"
   ]
  },
  {
   "cell_type": "code",
   "execution_count": 0,
   "metadata": {
    "colab": {},
    "colab_type": "code",
    "id": "qd3Ttbu2aKXb"
   },
   "outputs": [],
   "source": [
    "def initialize_parameters(layer_dim):\n",
    "    np.random.seed(1)\n",
    "    l = len(layer_dim) -1\n",
    "    parameters = {}\n",
    "    for i in range(1,l+1):\n",
    "        parameters['w'+str(i)] = np.random.randn(layer_dim[i], layer_dim[i-1])*np.sqrt(2/layer_dim[i-1])\n",
    "        print(\"Initialized w\"+str(i)+\":\"+str(parameters['w'+str(i)].shape))\n",
    "        parameters['b'+str(i)] = np.zeros((layer_dim[i],1))\n",
    "        print(\"Initialized b\"+str(i)+\":\"+str(parameters['b'+str(i)].shape))\n",
    "    return parameters"
   ]
  },
  {
   "cell_type": "code",
   "execution_count": 0,
   "metadata": {
    "colab": {},
    "colab_type": "code",
    "id": "IARRdAgyaKXe"
   },
   "outputs": [],
   "source": [
    "def sigmoid(x):\n",
    "    z = 1/(1+np.exp(-x))\n",
    "    return z\n",
    "\n",
    "def relu(x):\n",
    "    z = np.maximum(0, x)\n",
    "    return z"
   ]
  },
  {
   "cell_type": "code",
   "execution_count": 0,
   "metadata": {
    "colab": {},
    "colab_type": "code",
    "id": "rIqzUC9saKXi"
   },
   "outputs": [],
   "source": [
    "def random_mini_batches(X , Y, mini_batch_size = 64 , seed = 0):\n",
    "    mini_batches = []\n",
    "    np.random.seed(seed+1)\n",
    "    m = X.shape[1]\n",
    "    permutation = list(np.random.permutation(m))\n",
    "    \n",
    "    shuffled_x = X[:, permutation]\n",
    "    shuffled_y = Y[:, permutation]\n",
    "    \n",
    "    num_of_complete_mini_batches = math.floor(m/mini_batch_size)\n",
    "    n = num_of_complete_mini_batches\n",
    "    #print (\"No of complete minibatches : \"+str(n))\n",
    "    \n",
    "    for i in range (1, n+1):\n",
    "        mini_batch_x = shuffled_x[:, (i-1)*mini_batch_size : i*mini_batch_size]\n",
    "        mini_batch_y = shuffled_y[:, (i-1)*mini_batch_size : i*mini_batch_size]\n",
    "        mini_batch = (mini_batch_x, mini_batch_y)\n",
    "        mini_batches.append(mini_batch)\n",
    "        \n",
    "    last_mini_batch_x = shuffled_x[:, n*mini_batch_size : m]\n",
    "    last_mini_batch_y = shuffled_y[:, n*mini_batch_size : m]\n",
    "    last_mini_batch = (last_mini_batch_x , last_mini_batch_y)\n",
    "    mini_batches.append(last_mini_batch)\n",
    "    #print(\"Total minibatches : \"+str(len(mini_batches)))\n",
    "    \n",
    "    return mini_batches"
   ]
  },
  {
   "cell_type": "code",
   "execution_count": 0,
   "metadata": {
    "colab": {},
    "colab_type": "code",
    "id": "m9xllUVHaKXn"
   },
   "outputs": [],
   "source": [
    "def forward_propagation(parameters , X):\n",
    "    l = len(parameters)//2\n",
    "    cache = {}\n",
    "    A = X\n",
    "    cache['a'+str(0)] = A\n",
    "    for i in range (1, l):\n",
    "        A_prev = A\n",
    "        z = np.dot(parameters['w'+str(i)], A_prev) + parameters['b'+str(i)]\n",
    "        A = relu(z)\n",
    "        cache['w'+str(i)] = parameters['w'+str(i)]\n",
    "        #print (\"w\"+str(i)+\":\"+str(cache['w'+str(i)].shape))\n",
    "        cache['b'+str(i)] = parameters['b'+str(i)]\n",
    "        #print (\"b\"+str(i)+\":\"+str(cache['b'+str(i)].shape))\n",
    "        cache['z'+str(i)] = z\n",
    "        #print (\"z\"+str(i)+\":\"+str(cache['z'+str(i)].shape))\n",
    "        cache['a'+str(i)] = A\n",
    "        #print (\"a\"+str(i)+\":\"+str(cache['a'+str(i)].shape))\n",
    "        \n",
    "    z = np.dot(parameters['w'+str(l)], A) + parameters['b'+str(l)]\n",
    "    A = sigmoid(z)\n",
    "    cache['w'+str(l)] = parameters['w'+str(l)]\n",
    "    #print (\"w\"+str(l)+\":\"+str(cache['w'+str(l)].shape))\n",
    "    cache['b'+str(l)] = parameters['b'+str(l)]\n",
    "    #print (\"b\"+str(l)+\":\"+str(cache['b'+str(l)].shape))\n",
    "    cache['z'+str(l)] = z\n",
    "    #print (\"z\"+str(l)+\":\"+str(cache['z'+str(l)].shape))\n",
    "    cache['a'+str(l)] = A\n",
    "    #print (\"a\"+str(l)+\":\"+str(cache['a'+str(l)].shape))\n",
    "    \n",
    "    return A , cache"
   ]
  },
  {
   "cell_type": "code",
   "execution_count": 0,
   "metadata": {
    "colab": {},
    "colab_type": "code",
    "id": "cOdu98LPaKXr"
   },
   "outputs": [],
   "source": [
    "def backward_propagation(A, Y, cache):\n",
    "    l = len(cache)//4\n",
    "    #print (\"A shape :\"+str(A.shape))\n",
    "    #print (\"Y shape :\"+str(Y.shape))\n",
    "    grads = {}\n",
    "    m = Y.shape[1]\n",
    "    \n",
    "    grads['dz'+str(l)] = (1./m)*(A - Y)\n",
    "    #print(\"dz\"+str(l)+\":\"+str(grads['dz'+str(l)].shape))\n",
    "    grads['dw'+str(l)] = np.dot(grads['dz'+str(l)] , cache['a'+str(l-1)].T)\n",
    "    #print(\"dw\"+str(l)+\":\"+str(grads['dw'+str(l)].shape))\n",
    "    grads['db'+str(l)] = np.sum(grads['dz'+str(l)] , axis = 1, keepdims =True)\n",
    "    #print(\"db\"+str(l)+\":\"+str(grads['db'+str(l)].shape))\n",
    "    \n",
    "    for i in range(l-1,0,-1):\n",
    "        grads['da'+str(i)] = np.dot(cache['w'+str(i+1)].T, grads['dz'+str(i+1)])\n",
    "        #print(\"da\"+str(i)+\":\"+str(grads['da'+str(i)].shape))\n",
    "        grads['dz'+str(i)] = np.multiply(grads['da'+str(i)], np.int64(cache['a'+str(i)]>0))\n",
    "        #print(\"dz\"+str(i)+\":\"+str(grads['dz'+str(i)].shape))\n",
    "        grads['dw'+str(i)] = np.dot(grads['dz'+str(i)], cache['a'+str(i-1)].T)\n",
    "        #print(\"dw\"+str(i)+\":\"+str(grads['dw'+str(i)].shape))\n",
    "        grads['db'+str(i)] = np.sum(grads['dz'+str(i)],axis=1, keepdims=True)\n",
    "        #print(\"db\"+str(i)+\":\"+str(grads['db'+str(i)].shape))\n",
    "        \n",
    "    return grads"
   ]
  },
  {
   "cell_type": "code",
   "execution_count": 0,
   "metadata": {
    "colab": {},
    "colab_type": "code",
    "id": "FL6-eb8paKXv"
   },
   "outputs": [],
   "source": [
    "def compute_cost(a,y):\n",
    "    m = y.shape[1]\n",
    "    logprobs = np.multiply(-np.log(a) , y) + np.multiply(-np.log(1-a) , (1-y))\n",
    "    cost = (1./m)*np.sum(logprobs)\n",
    "    return cost"
   ]
  },
  {
   "cell_type": "code",
   "execution_count": 0,
   "metadata": {
    "colab": {},
    "colab_type": "code",
    "id": "hqqLsiEwaKX1"
   },
   "outputs": [],
   "source": [
    "def adam_optimizer(parameters, grads, beta1 = 0.9 , beta2 = 0.999 , learning_rate=0.006,  epsilon = 1e-8):\n",
    "    l = len(parameters)//2\n",
    "    seed = 0\n",
    "    np.random.seed(seed+1)\n",
    "    \n",
    "    v = {}\n",
    "    s = {}\n",
    "    v_corrected = {}\n",
    "    s_corrected = {}\n",
    "    \n",
    "    for i in range(1,l+1):\n",
    "        # v,s initialization\n",
    "        v['dw'+str(i)] = np.zeros((parameters['w'+str(i)].shape))\n",
    "        v['db'+str(i)] = np.zeros((parameters['b'+str(i)].shape))\n",
    "        s['dw'+str(i)] = np.zeros((parameters['w'+str(i)].shape))\n",
    "        s['db'+str(i)] = np.zeros((parameters['b'+str(i)].shape))\n",
    "        \n",
    "        # updating with exponentially weighted avarages\n",
    "        v['dw'+str(i)] = beta1*v['dw'+str(i)] + (1-beta1)*grads['dw'+str(i)]\n",
    "        v['db'+str(i)] = beta1*v['db'+str(i)] + (1-beta1)*grads['db'+str(i)]\n",
    "        s['dw'+str(i)] = beta2*s['dw'+str(i)] + (1-beta2)*grads['dw'+str(i)]\n",
    "        s['db'+str(i)] = beta2*s['db'+str(i)] + (1-beta2)*grads['db'+str(i)]\n",
    "        \n",
    "        # correcting the v,s\n",
    "        v_corrected['dw'+str(i)] = v['dw'+str(i)]/(1-np.power(beta1,2))\n",
    "        v_corrected['db'+str(i)] = v['db'+str(i)]/(1-np.power(beta1,2))\n",
    "        s_corrected['dw'+str(i)] = v['dw'+str(i)]/(1-np.power(beta2,2))\n",
    "        print (\"s_corr_dw \"+str(i)+\":\"+str(s_corrected['dw'+str(i)]))\n",
    "        s_corrected['db'+str(i)] = v['db'+str(i)]/(1-np.power(beta2,2))\n",
    "        print (str(\"s_corr_db \"+str(i)+\":\"+str(s_corrected['db'+str(i)])))\n",
    "        \n",
    "        # updating parameters\n",
    "        parameters['w'+str(i)] = parameters['w'+str(i)] - learning_rate*(v_corrected['dw'+str(i)]/((np.sqrt(s_corrected['dw'+str(i)]))+epsilon))\n",
    "        parameters['b'+str(i)] = parameters['b'+str(i)] - learning_rate*(v_corrected['db'+str(i)]/((np.sqrt(s_corrected['db'+str(i)]))+epsilon))\n",
    "        \n",
    "    return parameters"
   ]
  },
  {
   "cell_type": "code",
   "execution_count": 0,
   "metadata": {
    "colab": {},
    "colab_type": "code",
    "id": "Ihsd9M41aKX7"
   },
   "outputs": [],
   "source": [
    "def momentum(parameters, grads, beta1 = 0.9 , beta2 = 0.999 , learning_rate=0.006,  epsilon = 1e-8):\n",
    "    l = len(parameters)//2\n",
    "    seed = 0\n",
    "    np.random.seed(seed+1)\n",
    "    \n",
    "    v = {}\n",
    "    \n",
    "    for i in range(1,l+1):\n",
    "        # v,s initialization\n",
    "        v['dw'+str(i)] = np.zeros((parameters['w'+str(i)].shape))\n",
    "        v['db'+str(i)] = np.zeros((parameters['b'+str(i)].shape))\n",
    "\n",
    "        # updating with exponentially weighted avarages\n",
    "        v['dw'+str(i)] = beta1*v['dw'+str(i)] + (1-beta1)*grads['dw'+str(i)]\n",
    "        v['db'+str(i)] = beta1*v['db'+str(i)] + (1-beta1)*grads['db'+str(i)]\n",
    "\n",
    "        # updating parameters\n",
    "        parameters['w'+str(i)] = parameters['w'+str(i)] - learning_rate*v['dw'+str(i)]\n",
    "        parameters['b'+str(i)] = parameters['b'+str(i)] - learning_rate*v['db'+str(i)]\n",
    "        \n",
    "    return parameters"
   ]
  },
  {
   "cell_type": "code",
   "execution_count": 0,
   "metadata": {
    "colab": {},
    "colab_type": "code",
    "id": "IHW5fwLjaKYB"
   },
   "outputs": [],
   "source": [
    "def model(x_train, y_train, layer_dim, epochs=1000,learning_rate=0.006, print_cost = True):\n",
    "    \n",
    "    L = len(layer_dim)\n",
    "    costs = []\n",
    "    seed = 10\n",
    "    \n",
    "    parameters = initialize_parameters(layer_dim)\n",
    "    \n",
    "    for i in range(epochs):\n",
    "        seed = seed + 1\n",
    "        minibatches = random_mini_batches(x_train , y_train , mini_batch_size = 64)\n",
    "        #counter = 0\n",
    "        \n",
    "        for minibatch in minibatches:\n",
    "            (minibatch_x,minibatch_y) = minibatch\n",
    "            \n",
    "            #counter = counter + 1\n",
    "            #print (\"Minibatch \"+str(counter)+\" shapes :\")\n",
    "            #print (minibatch_x.shape)\n",
    "            #print (minibatch_y.shape)\n",
    "            \n",
    "            A, cache = forward_propagation(parameters , minibatch_x)\n",
    "            \n",
    "            cost = compute_cost(A, minibatch_y)\n",
    "            grads = backward_propagation(A, minibatch_y , cache)\n",
    "            #params = adam_optimizer(parameters , grads)\n",
    "            params = momentum(parameters , grads)\n",
    "        \n",
    "        if print_cost and i % 100 == 0:\n",
    "            print (\"Cost after epoch %i: %f\" %(i, cost))\n",
    "        if print_cost and i % 100 == 0:\n",
    "            costs.append(cost)\n",
    "    \n",
    "    plt.plot(costs)\n",
    "    plt.ylabel('cost')\n",
    "    plt.xlabel('epochs (per 100)')\n",
    "    plt.title(\"Learning rate = \" + str(learning_rate))\n",
    "    plt.show()\n",
    "    \n",
    "    return params"
   ]
  },
  {
   "cell_type": "code",
   "execution_count": 0,
   "metadata": {
    "colab": {},
    "colab_type": "code",
    "id": "aZ4nzdRLaKYF",
    "outputId": "83a4818f-85db-4285-b9f0-7e2ad0921807"
   },
   "outputs": [
    {
     "name": "stdout",
     "output_type": "stream",
     "text": [
      "Initialized w1:(20, 7500)\n",
      "Initialized b1:(20, 1)\n",
      "Initialized w2:(10, 20)\n",
      "Initialized b2:(10, 1)\n",
      "Initialized w3:(5, 10)\n",
      "Initialized b3:(5, 1)\n",
      "Initialized w4:(1, 5)\n",
      "Initialized b4:(1, 1)\n",
      "Cost after epoch 0: 0.684191\n",
      "Cost after epoch 100: 0.296738\n",
      "Cost after epoch 200: 0.182190\n",
      "Cost after epoch 300: 0.070934\n",
      "Cost after epoch 400: 0.048914\n",
      "Cost after epoch 500: 0.026079\n",
      "Cost after epoch 600: 0.011059\n"
     ]
    },
    {
     "name": "stderr",
     "output_type": "stream",
     "text": [
      "/home/iamnildas/anaconda3/lib/python3.7/site-packages/ipykernel_launcher.py:3: RuntimeWarning: divide by zero encountered in log\n",
      "  This is separate from the ipykernel package so we can avoid doing imports until\n",
      "/home/iamnildas/anaconda3/lib/python3.7/site-packages/ipykernel_launcher.py:3: RuntimeWarning: invalid value encountered in multiply\n",
      "  This is separate from the ipykernel package so we can avoid doing imports until\n"
     ]
    },
    {
     "name": "stdout",
     "output_type": "stream",
     "text": [
      "Cost after epoch 700: 0.009709\n",
      "Cost after epoch 800: 0.004010\n",
      "Cost after epoch 900: 0.003157\n"
     ]
    },
    {
     "data": {
      "image/png": "[encoded data removed]",
      "text/plain": [
       "<Figure size 432x288 with 1 Axes>"
      ]
     },
     "metadata": {
      "needs_background": "light",
      "tags": []
     },
     "output_type": "display_data"
    }
   ],
   "source": [
    "layer_dim = [x_train.shape[0],20, 10, 5, 1]\n",
    "parameters = model(x_train, y_train, layer_dim)"
   ]
  },
  {
   "cell_type": "code",
   "execution_count": 0,
   "metadata": {
    "colab": {},
    "colab_type": "code",
    "id": "6fXEWvUraKYK"
   },
   "outputs": [],
   "source": [
    "def predict(parameters , x, y):\n",
    "    \n",
    "    m = y.shape[1]\n",
    "    p = np.zeros((1,m))\n",
    "\n",
    "    yhat , cache = forward_propagation(parameters , x)\n",
    "    \n",
    "    for i in range (m):\n",
    "        if yhat[0][i] > 0.5:\n",
    "            p[0][i] = 1\n",
    "    \n",
    "    print (\"Accuracy : \"+str(np.sum((p == y)/m)*100)+\" percent\")"
   ]
  },
  {
   "cell_type": "code",
   "execution_count": 0,
   "metadata": {
    "colab": {},
    "colab_type": "code",
    "id": "H-h-_bTbaKYR",
    "outputId": "8db7a61b-08b6-4088-b862-19c9982976cb"
   },
   "outputs": [
    {
     "name": "stdout",
     "output_type": "stream",
     "text": [
      "Accuracy : 99.6222222222222 percent\n"
     ]
    }
   ],
   "source": [
    "prediction = predict(parameters , x_train, y_train)"
   ]
  },
  {
   "cell_type": "code",
   "execution_count": 0,
   "metadata": {
    "colab": {},
    "colab_type": "code",
    "id": "WaiGJqSVaKYe",
    "outputId": "6319b519-e985-4839-9e1a-4e3d3d209c6a"
   },
   "outputs": [
    {
     "name": "stdout",
     "output_type": "stream",
     "text": [
      "Accuracy : 81.85000000000002 percent\n"
     ]
    }
   ],
   "source": [
    "test_pred = predict(parameters , x_test, y_test)"
   ]
  },
  {
   "cell_type": "code",
   "execution_count": 0,
   "metadata": {
    "colab": {},
    "colab_type": "code",
    "id": "ANQuiRhVaKYq"
   },
   "outputs": [],
   "source": []
  }
 ],
 "metadata": {
  "colab": {
   "name": "Cats-dogs classifier(final).ipynb",
   "provenance": [],
   "version": "0.3.2"
  },
  "kernelspec": {
   "display_name": "Python 3",
   "language": "python",
   "name": "python3"
  },
  "language_info": {
   "codemirror_mode": {
    "name": "ipython",
    "version": 3
   },
   "file_extension": ".py",
   "mimetype": "text/x-python",
   "name": "python",
   "nbconvert_exporter": "python",
   "pygments_lexer": "ipython3",
   "version": "3.7.3"
  }
 },
 "nbformat": 4,
 "nbformat_minor": 1
}
